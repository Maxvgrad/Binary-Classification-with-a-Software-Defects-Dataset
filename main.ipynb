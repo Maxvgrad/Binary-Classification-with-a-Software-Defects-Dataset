{
  "nbformat": 4,
  "nbformat_minor": 0,
  "metadata": {
    "colab": {
      "provenance": [],
      "gpuType": "T4",
      "include_colab_link": true
    },
    "kernelspec": {
      "name": "python3",
      "display_name": "Python 3"
    },
    "language_info": {
      "name": "python"
    },
    "accelerator": "GPU"
  },
  "cells": [
    {
      "cell_type": "markdown",
      "metadata": {
        "id": "view-in-github",
        "colab_type": "text"
      },
      "source": [
        "<a href=\"https://colab.research.google.com/github/Maxvgrad/Binary-Classification-with-a-Software-Defects-Dataset/blob/main/main.ipynb\" target=\"_parent\"><img src=\"https://colab.research.google.com/assets/colab-badge.svg\" alt=\"Open In Colab\"/></a>"
      ]
    },
    {
      "cell_type": "markdown",
      "source": [
        "# Project: Binary Classification with a Software Defects Dataset"
      ],
      "metadata": {
        "id": "BVQ55AXu8nwx"
      }
    },
    {
      "cell_type": "markdown",
      "source": [
        "# Code"
      ],
      "metadata": {
        "id": "02PT1_fk9hcj"
      }
    },
    {
      "cell_type": "markdown",
      "source": [
        "## Download dataset - Kaggle"
      ],
      "metadata": {
        "id": "nEbXyO4gXa0_"
      }
    },
    {
      "cell_type": "code",
      "execution_count": null,
      "metadata": {
        "id": "sdFZJBiE-VOl"
      },
      "outputs": [],
      "source": [
        "from google.colab import files\n",
        "\n",
        "files.upload(); # upload your kaggle.json file"
      ]
    },
    {
      "cell_type": "code",
      "source": [
        "import json\n",
        "\n",
        "!mkdir /root/.kaggle/\n",
        "!mv kaggle.json /root/.kaggle/kaggle.json\n",
        "!chmod 600 ~/.kaggle/kaggle.json\n",
        "!kaggle config set -n path -v{/content}"
      ],
      "metadata": {
        "id": "7SI7llicMS0i"
      },
      "execution_count": null,
      "outputs": []
    },
    {
      "cell_type": "code",
      "source": [
        "dataset_name = 'playground-series-s3e23'\n",
        "previous_dataset_path = '/content/{/content}/competitions/' + dataset_name\n",
        "dataset_path = previous_dataset_path.replace('/{/content}', '')\n",
        "dataset_archive = dataset_name + '.zip'"
      ],
      "metadata": {
        "id": "vaTZDBsjXtcV"
      },
      "execution_count": null,
      "outputs": []
    },
    {
      "cell_type": "code",
      "source": [
        "!kaggle competitions download -c {dataset_name}"
      ],
      "metadata": {
        "id": "d6a8NlIyL0a-"
      },
      "execution_count": null,
      "outputs": []
    },
    {
      "cell_type": "code",
      "source": [
        "!mkdir -p competitions/playground-series-s3e23\n",
        "!mv {previous_dataset_path}/{dataset_archive} {dataset_path}/{dataset_archive}\n",
        "!unzip {dataset_path}/{dataset_archive} -d {dataset_path}\n",
        "\n",
        "# Optional clean up\n",
        "!rm -r '{'\n",
        "!rm {dataset_path}/{dataset_archive}"
      ],
      "metadata": {
        "id": "1V6XFfg4MqTn"
      },
      "execution_count": null,
      "outputs": []
    },
    {
      "cell_type": "code",
      "source": [
        "!kaggle competitions submit -c {dataset_name} -f {dataset_path}/sample_submission.csv -m \"Sample submission test\""
      ],
      "metadata": {
        "id": "Vpwyci5cLKaG"
      },
      "execution_count": null,
      "outputs": []
    },
    {
      "cell_type": "markdown",
      "source": [
        "## Download dataset - filesystem"
      ],
      "metadata": {
        "id": "EMfn4I9GrEzW"
      }
    },
    {
      "cell_type": "code",
      "source": [
        "from google.colab import files\n",
        "\n",
        "files.upload(); # train.csv"
      ],
      "metadata": {
        "colab": {
          "base_uri": "https://localhost:8080/",
          "height": 74
        },
        "id": "rO1KbJekrIMd",
        "outputId": "e0e7b370-ad24-44bc-ba0f-4d8f82d2338f"
      },
      "execution_count": 1,
      "outputs": [
        {
          "output_type": "display_data",
          "data": {
            "text/plain": [
              "<IPython.core.display.HTML object>"
            ],
            "text/html": [
              "\n",
              "     <input type=\"file\" id=\"files-806a23ec-fc76-4fa9-9faa-c85ec7ea102b\" name=\"files[]\" multiple disabled\n",
              "        style=\"border:none\" />\n",
              "     <output id=\"result-806a23ec-fc76-4fa9-9faa-c85ec7ea102b\">\n",
              "      Upload widget is only available when the cell has been executed in the\n",
              "      current browser session. Please rerun this cell to enable.\n",
              "      </output>\n",
              "      <script>// Copyright 2017 Google LLC\n",
              "//\n",
              "// Licensed under the Apache License, Version 2.0 (the \"License\");\n",
              "// you may not use this file except in compliance with the License.\n",
              "// You may obtain a copy of the License at\n",
              "//\n",
              "//      http://www.apache.org/licenses/LICENSE-2.0\n",
              "//\n",
              "// Unless required by applicable law or agreed to in writing, software\n",
              "// distributed under the License is distributed on an \"AS IS\" BASIS,\n",
              "// WITHOUT WARRANTIES OR CONDITIONS OF ANY KIND, either express or implied.\n",
              "// See the License for the specific language governing permissions and\n",
              "// limitations under the License.\n",
              "\n",
              "/**\n",
              " * @fileoverview Helpers for google.colab Python module.\n",
              " */\n",
              "(function(scope) {\n",
              "function span(text, styleAttributes = {}) {\n",
              "  const element = document.createElement('span');\n",
              "  element.textContent = text;\n",
              "  for (const key of Object.keys(styleAttributes)) {\n",
              "    element.style[key] = styleAttributes[key];\n",
              "  }\n",
              "  return element;\n",
              "}\n",
              "\n",
              "// Max number of bytes which will be uploaded at a time.\n",
              "const MAX_PAYLOAD_SIZE = 100 * 1024;\n",
              "\n",
              "function _uploadFiles(inputId, outputId) {\n",
              "  const steps = uploadFilesStep(inputId, outputId);\n",
              "  const outputElement = document.getElementById(outputId);\n",
              "  // Cache steps on the outputElement to make it available for the next call\n",
              "  // to uploadFilesContinue from Python.\n",
              "  outputElement.steps = steps;\n",
              "\n",
              "  return _uploadFilesContinue(outputId);\n",
              "}\n",
              "\n",
              "// This is roughly an async generator (not supported in the browser yet),\n",
              "// where there are multiple asynchronous steps and the Python side is going\n",
              "// to poll for completion of each step.\n",
              "// This uses a Promise to block the python side on completion of each step,\n",
              "// then passes the result of the previous step as the input to the next step.\n",
              "function _uploadFilesContinue(outputId) {\n",
              "  const outputElement = document.getElementById(outputId);\n",
              "  const steps = outputElement.steps;\n",
              "\n",
              "  const next = steps.next(outputElement.lastPromiseValue);\n",
              "  return Promise.resolve(next.value.promise).then((value) => {\n",
              "    // Cache the last promise value to make it available to the next\n",
              "    // step of the generator.\n",
              "    outputElement.lastPromiseValue = value;\n",
              "    return next.value.response;\n",
              "  });\n",
              "}\n",
              "\n",
              "/**\n",
              " * Generator function which is called between each async step of the upload\n",
              " * process.\n",
              " * @param {string} inputId Element ID of the input file picker element.\n",
              " * @param {string} outputId Element ID of the output display.\n",
              " * @return {!Iterable<!Object>} Iterable of next steps.\n",
              " */\n",
              "function* uploadFilesStep(inputId, outputId) {\n",
              "  const inputElement = document.getElementById(inputId);\n",
              "  inputElement.disabled = false;\n",
              "\n",
              "  const outputElement = document.getElementById(outputId);\n",
              "  outputElement.innerHTML = '';\n",
              "\n",
              "  const pickedPromise = new Promise((resolve) => {\n",
              "    inputElement.addEventListener('change', (e) => {\n",
              "      resolve(e.target.files);\n",
              "    });\n",
              "  });\n",
              "\n",
              "  const cancel = document.createElement('button');\n",
              "  inputElement.parentElement.appendChild(cancel);\n",
              "  cancel.textContent = 'Cancel upload';\n",
              "  const cancelPromise = new Promise((resolve) => {\n",
              "    cancel.onclick = () => {\n",
              "      resolve(null);\n",
              "    };\n",
              "  });\n",
              "\n",
              "  // Wait for the user to pick the files.\n",
              "  const files = yield {\n",
              "    promise: Promise.race([pickedPromise, cancelPromise]),\n",
              "    response: {\n",
              "      action: 'starting',\n",
              "    }\n",
              "  };\n",
              "\n",
              "  cancel.remove();\n",
              "\n",
              "  // Disable the input element since further picks are not allowed.\n",
              "  inputElement.disabled = true;\n",
              "\n",
              "  if (!files) {\n",
              "    return {\n",
              "      response: {\n",
              "        action: 'complete',\n",
              "      }\n",
              "    };\n",
              "  }\n",
              "\n",
              "  for (const file of files) {\n",
              "    const li = document.createElement('li');\n",
              "    li.append(span(file.name, {fontWeight: 'bold'}));\n",
              "    li.append(span(\n",
              "        `(${file.type || 'n/a'}) - ${file.size} bytes, ` +\n",
              "        `last modified: ${\n",
              "            file.lastModifiedDate ? file.lastModifiedDate.toLocaleDateString() :\n",
              "                                    'n/a'} - `));\n",
              "    const percent = span('0% done');\n",
              "    li.appendChild(percent);\n",
              "\n",
              "    outputElement.appendChild(li);\n",
              "\n",
              "    const fileDataPromise = new Promise((resolve) => {\n",
              "      const reader = new FileReader();\n",
              "      reader.onload = (e) => {\n",
              "        resolve(e.target.result);\n",
              "      };\n",
              "      reader.readAsArrayBuffer(file);\n",
              "    });\n",
              "    // Wait for the data to be ready.\n",
              "    let fileData = yield {\n",
              "      promise: fileDataPromise,\n",
              "      response: {\n",
              "        action: 'continue',\n",
              "      }\n",
              "    };\n",
              "\n",
              "    // Use a chunked sending to avoid message size limits. See b/62115660.\n",
              "    let position = 0;\n",
              "    do {\n",
              "      const length = Math.min(fileData.byteLength - position, MAX_PAYLOAD_SIZE);\n",
              "      const chunk = new Uint8Array(fileData, position, length);\n",
              "      position += length;\n",
              "\n",
              "      const base64 = btoa(String.fromCharCode.apply(null, chunk));\n",
              "      yield {\n",
              "        response: {\n",
              "          action: 'append',\n",
              "          file: file.name,\n",
              "          data: base64,\n",
              "        },\n",
              "      };\n",
              "\n",
              "      let percentDone = fileData.byteLength === 0 ?\n",
              "          100 :\n",
              "          Math.round((position / fileData.byteLength) * 100);\n",
              "      percent.textContent = `${percentDone}% done`;\n",
              "\n",
              "    } while (position < fileData.byteLength);\n",
              "  }\n",
              "\n",
              "  // All done.\n",
              "  yield {\n",
              "    response: {\n",
              "      action: 'complete',\n",
              "    }\n",
              "  };\n",
              "}\n",
              "\n",
              "scope.google = scope.google || {};\n",
              "scope.google.colab = scope.google.colab || {};\n",
              "scope.google.colab._files = {\n",
              "  _uploadFiles,\n",
              "  _uploadFilesContinue,\n",
              "};\n",
              "})(self);\n",
              "</script> "
            ]
          },
          "metadata": {}
        },
        {
          "output_type": "stream",
          "name": "stdout",
          "text": [
            "Saving train.csv to train.csv\n"
          ]
        }
      ]
    },
    {
      "cell_type": "markdown",
      "source": [
        "## Base line submission"
      ],
      "metadata": {
        "id": "Hisg3qq3XU9e"
      }
    },
    {
      "cell_type": "code",
      "source": [
        "import pandas as pd\n",
        "import numpy as np\n",
        "import matplotlib.pyplot as plt\n",
        "import seaborn as sns\n",
        "from sklearn.preprocessing import PowerTransformer, StandardScaler, MinMaxScaler, RobustScaler\n",
        "\n",
        "from xgboost import XGBClassifier\n",
        "from sklearn.linear_model import LogisticRegression\n",
        "from sklearn.svm import SVC\n",
        "from sklearn.tree import DecisionTreeClassifier\n",
        "from sklearn.naive_bayes import GaussianNB\n",
        "from sklearn.neighbors import KNeighborsClassifier\n",
        "from sklearn.ensemble import AdaBoostClassifier, ExtraTreesClassifier,GradientBoostingClassifier,RandomForestClassifier\n",
        "from sklearn.model_selection import cross_val_score\n",
        "\n",
        "from sklearn.model_selection import StratifiedKFold\n",
        "from sklearn.linear_model import LogisticRegression\n",
        "\n",
        "from imblearn.over_sampling import SMOTE\n",
        "from sklearn.pipeline import make_pipeline\n",
        "from sklearn.base import clone\n",
        "\n",
        "import warnings\n",
        "\n",
        "# Suppress all warnings\n",
        "warnings.filterwarnings(\"ignore\")\n"
      ],
      "metadata": {
        "id": "ME334e6RLM3m"
      },
      "execution_count": 20,
      "outputs": []
    },
    {
      "cell_type": "code",
      "source": [
        "# Download the dataset\n",
        "!mv 'train.csv' 'defects.csv' # In case the file is named train.csv in local filesystem, then rename\n",
        "df = pd.read_csv('defects.csv')"
      ],
      "metadata": {
        "id": "X34-qWjeLQ9b"
      },
      "execution_count": 3,
      "outputs": []
    },
    {
      "cell_type": "code",
      "source": [
        "# The dataset contains data about 101763 code modules and it has 23 columns.\n",
        "df.shape"
      ],
      "metadata": {
        "id": "kJoTClPPOy7n",
        "colab": {
          "base_uri": "https://localhost:8080/"
        },
        "outputId": "2b3c804c-d28c-4674-dd61-f0d0707c0dd2"
      },
      "execution_count": 6,
      "outputs": [
        {
          "output_type": "execute_result",
          "data": {
            "text/plain": [
              "(101763, 23)"
            ]
          },
          "metadata": {},
          "execution_count": 6
        }
      ]
    },
    {
      "cell_type": "code",
      "source": [
        "df.head()"
      ],
      "metadata": {
        "colab": {
          "base_uri": "https://localhost:8080/",
          "height": 256
        },
        "id": "em3vnw88Jde4",
        "outputId": "42b4144a-0613-463f-dd88-128223f5c63d"
      },
      "execution_count": 7,
      "outputs": [
        {
          "output_type": "execute_result",
          "data": {
            "text/plain": [
              "   id   loc  v(g)  ev(g)  iv(g)     n       v     l      d      i  ...  \\\n",
              "0   0  22.0   3.0    1.0    2.0  60.0  278.63  0.06  19.56  14.25  ...   \n",
              "1   1  14.0   2.0    1.0    2.0  32.0  151.27  0.14   7.00  21.11  ...   \n",
              "2   2  11.0   2.0    1.0    2.0  45.0  197.65  0.11   8.05  22.76  ...   \n",
              "3   3   8.0   1.0    1.0    1.0  23.0   94.01  0.19   5.25  17.86  ...   \n",
              "4   4  11.0   2.0    1.0    2.0  17.0   60.94  0.18   5.63  12.44  ...   \n",
              "\n",
              "   lOCode  lOComment  lOBlank  locCodeAndComment  uniq_Op  uniq_Opnd  \\\n",
              "0      17          1        1                  0     16.0        9.0   \n",
              "1      11          0        1                  0     11.0       11.0   \n",
              "2       8          0        1                  0     12.0       11.0   \n",
              "3       4          0        2                  0      8.0        6.0   \n",
              "4       7          0        2                  0      7.0        6.0   \n",
              "\n",
              "   total_Op  total_Opnd  branchCount  defects  \n",
              "0      38.0        22.0          5.0    False  \n",
              "1      18.0        14.0          3.0    False  \n",
              "2      28.0        17.0          3.0    False  \n",
              "3      16.0         7.0          1.0     True  \n",
              "4      10.0        10.0          3.0    False  \n",
              "\n",
              "[5 rows x 23 columns]"
            ],
            "text/html": [
              "\n",
              "  <div id=\"df-16e5994b-f63d-4a8d-9f06-e5d3740d9886\" class=\"colab-df-container\">\n",
              "    <div>\n",
              "<style scoped>\n",
              "    .dataframe tbody tr th:only-of-type {\n",
              "        vertical-align: middle;\n",
              "    }\n",
              "\n",
              "    .dataframe tbody tr th {\n",
              "        vertical-align: top;\n",
              "    }\n",
              "\n",
              "    .dataframe thead th {\n",
              "        text-align: right;\n",
              "    }\n",
              "</style>\n",
              "<table border=\"1\" class=\"dataframe\">\n",
              "  <thead>\n",
              "    <tr style=\"text-align: right;\">\n",
              "      <th></th>\n",
              "      <th>id</th>\n",
              "      <th>loc</th>\n",
              "      <th>v(g)</th>\n",
              "      <th>ev(g)</th>\n",
              "      <th>iv(g)</th>\n",
              "      <th>n</th>\n",
              "      <th>v</th>\n",
              "      <th>l</th>\n",
              "      <th>d</th>\n",
              "      <th>i</th>\n",
              "      <th>...</th>\n",
              "      <th>lOCode</th>\n",
              "      <th>lOComment</th>\n",
              "      <th>lOBlank</th>\n",
              "      <th>locCodeAndComment</th>\n",
              "      <th>uniq_Op</th>\n",
              "      <th>uniq_Opnd</th>\n",
              "      <th>total_Op</th>\n",
              "      <th>total_Opnd</th>\n",
              "      <th>branchCount</th>\n",
              "      <th>defects</th>\n",
              "    </tr>\n",
              "  </thead>\n",
              "  <tbody>\n",
              "    <tr>\n",
              "      <th>0</th>\n",
              "      <td>0</td>\n",
              "      <td>22.0</td>\n",
              "      <td>3.0</td>\n",
              "      <td>1.0</td>\n",
              "      <td>2.0</td>\n",
              "      <td>60.0</td>\n",
              "      <td>278.63</td>\n",
              "      <td>0.06</td>\n",
              "      <td>19.56</td>\n",
              "      <td>14.25</td>\n",
              "      <td>...</td>\n",
              "      <td>17</td>\n",
              "      <td>1</td>\n",
              "      <td>1</td>\n",
              "      <td>0</td>\n",
              "      <td>16.0</td>\n",
              "      <td>9.0</td>\n",
              "      <td>38.0</td>\n",
              "      <td>22.0</td>\n",
              "      <td>5.0</td>\n",
              "      <td>False</td>\n",
              "    </tr>\n",
              "    <tr>\n",
              "      <th>1</th>\n",
              "      <td>1</td>\n",
              "      <td>14.0</td>\n",
              "      <td>2.0</td>\n",
              "      <td>1.0</td>\n",
              "      <td>2.0</td>\n",
              "      <td>32.0</td>\n",
              "      <td>151.27</td>\n",
              "      <td>0.14</td>\n",
              "      <td>7.00</td>\n",
              "      <td>21.11</td>\n",
              "      <td>...</td>\n",
              "      <td>11</td>\n",
              "      <td>0</td>\n",
              "      <td>1</td>\n",
              "      <td>0</td>\n",
              "      <td>11.0</td>\n",
              "      <td>11.0</td>\n",
              "      <td>18.0</td>\n",
              "      <td>14.0</td>\n",
              "      <td>3.0</td>\n",
              "      <td>False</td>\n",
              "    </tr>\n",
              "    <tr>\n",
              "      <th>2</th>\n",
              "      <td>2</td>\n",
              "      <td>11.0</td>\n",
              "      <td>2.0</td>\n",
              "      <td>1.0</td>\n",
              "      <td>2.0</td>\n",
              "      <td>45.0</td>\n",
              "      <td>197.65</td>\n",
              "      <td>0.11</td>\n",
              "      <td>8.05</td>\n",
              "      <td>22.76</td>\n",
              "      <td>...</td>\n",
              "      <td>8</td>\n",
              "      <td>0</td>\n",
              "      <td>1</td>\n",
              "      <td>0</td>\n",
              "      <td>12.0</td>\n",
              "      <td>11.0</td>\n",
              "      <td>28.0</td>\n",
              "      <td>17.0</td>\n",
              "      <td>3.0</td>\n",
              "      <td>False</td>\n",
              "    </tr>\n",
              "    <tr>\n",
              "      <th>3</th>\n",
              "      <td>3</td>\n",
              "      <td>8.0</td>\n",
              "      <td>1.0</td>\n",
              "      <td>1.0</td>\n",
              "      <td>1.0</td>\n",
              "      <td>23.0</td>\n",
              "      <td>94.01</td>\n",
              "      <td>0.19</td>\n",
              "      <td>5.25</td>\n",
              "      <td>17.86</td>\n",
              "      <td>...</td>\n",
              "      <td>4</td>\n",
              "      <td>0</td>\n",
              "      <td>2</td>\n",
              "      <td>0</td>\n",
              "      <td>8.0</td>\n",
              "      <td>6.0</td>\n",
              "      <td>16.0</td>\n",
              "      <td>7.0</td>\n",
              "      <td>1.0</td>\n",
              "      <td>True</td>\n",
              "    </tr>\n",
              "    <tr>\n",
              "      <th>4</th>\n",
              "      <td>4</td>\n",
              "      <td>11.0</td>\n",
              "      <td>2.0</td>\n",
              "      <td>1.0</td>\n",
              "      <td>2.0</td>\n",
              "      <td>17.0</td>\n",
              "      <td>60.94</td>\n",
              "      <td>0.18</td>\n",
              "      <td>5.63</td>\n",
              "      <td>12.44</td>\n",
              "      <td>...</td>\n",
              "      <td>7</td>\n",
              "      <td>0</td>\n",
              "      <td>2</td>\n",
              "      <td>0</td>\n",
              "      <td>7.0</td>\n",
              "      <td>6.0</td>\n",
              "      <td>10.0</td>\n",
              "      <td>10.0</td>\n",
              "      <td>3.0</td>\n",
              "      <td>False</td>\n",
              "    </tr>\n",
              "  </tbody>\n",
              "</table>\n",
              "<p>5 rows × 23 columns</p>\n",
              "</div>\n",
              "    <div class=\"colab-df-buttons\">\n",
              "\n",
              "  <div class=\"colab-df-container\">\n",
              "    <button class=\"colab-df-convert\" onclick=\"convertToInteractive('df-16e5994b-f63d-4a8d-9f06-e5d3740d9886')\"\n",
              "            title=\"Convert this dataframe to an interactive table.\"\n",
              "            style=\"display:none;\">\n",
              "\n",
              "  <svg xmlns=\"http://www.w3.org/2000/svg\" height=\"24px\" viewBox=\"0 -960 960 960\">\n",
              "    <path d=\"M120-120v-720h720v720H120Zm60-500h600v-160H180v160Zm220 220h160v-160H400v160Zm0 220h160v-160H400v160ZM180-400h160v-160H180v160Zm440 0h160v-160H620v160ZM180-180h160v-160H180v160Zm440 0h160v-160H620v160Z\"/>\n",
              "  </svg>\n",
              "    </button>\n",
              "\n",
              "  <style>\n",
              "    .colab-df-container {\n",
              "      display:flex;\n",
              "      gap: 12px;\n",
              "    }\n",
              "\n",
              "    .colab-df-convert {\n",
              "      background-color: #E8F0FE;\n",
              "      border: none;\n",
              "      border-radius: 50%;\n",
              "      cursor: pointer;\n",
              "      display: none;\n",
              "      fill: #1967D2;\n",
              "      height: 32px;\n",
              "      padding: 0 0 0 0;\n",
              "      width: 32px;\n",
              "    }\n",
              "\n",
              "    .colab-df-convert:hover {\n",
              "      background-color: #E2EBFA;\n",
              "      box-shadow: 0px 1px 2px rgba(60, 64, 67, 0.3), 0px 1px 3px 1px rgba(60, 64, 67, 0.15);\n",
              "      fill: #174EA6;\n",
              "    }\n",
              "\n",
              "    .colab-df-buttons div {\n",
              "      margin-bottom: 4px;\n",
              "    }\n",
              "\n",
              "    [theme=dark] .colab-df-convert {\n",
              "      background-color: #3B4455;\n",
              "      fill: #D2E3FC;\n",
              "    }\n",
              "\n",
              "    [theme=dark] .colab-df-convert:hover {\n",
              "      background-color: #434B5C;\n",
              "      box-shadow: 0px 1px 3px 1px rgba(0, 0, 0, 0.15);\n",
              "      filter: drop-shadow(0px 1px 2px rgba(0, 0, 0, 0.3));\n",
              "      fill: #FFFFFF;\n",
              "    }\n",
              "  </style>\n",
              "\n",
              "    <script>\n",
              "      const buttonEl =\n",
              "        document.querySelector('#df-16e5994b-f63d-4a8d-9f06-e5d3740d9886 button.colab-df-convert');\n",
              "      buttonEl.style.display =\n",
              "        google.colab.kernel.accessAllowed ? 'block' : 'none';\n",
              "\n",
              "      async function convertToInteractive(key) {\n",
              "        const element = document.querySelector('#df-16e5994b-f63d-4a8d-9f06-e5d3740d9886');\n",
              "        const dataTable =\n",
              "          await google.colab.kernel.invokeFunction('convertToInteractive',\n",
              "                                                    [key], {});\n",
              "        if (!dataTable) return;\n",
              "\n",
              "        const docLinkHtml = 'Like what you see? Visit the ' +\n",
              "          '<a target=\"_blank\" href=https://colab.research.google.com/notebooks/data_table.ipynb>data table notebook</a>'\n",
              "          + ' to learn more about interactive tables.';\n",
              "        element.innerHTML = '';\n",
              "        dataTable['output_type'] = 'display_data';\n",
              "        await google.colab.output.renderOutput(dataTable, element);\n",
              "        const docLink = document.createElement('div');\n",
              "        docLink.innerHTML = docLinkHtml;\n",
              "        element.appendChild(docLink);\n",
              "      }\n",
              "    </script>\n",
              "  </div>\n",
              "\n",
              "\n",
              "<div id=\"df-0fdd3e69-0030-47cb-a00f-8a9291503690\">\n",
              "  <button class=\"colab-df-quickchart\" onclick=\"quickchart('df-0fdd3e69-0030-47cb-a00f-8a9291503690')\"\n",
              "            title=\"Suggest charts\"\n",
              "            style=\"display:none;\">\n",
              "\n",
              "<svg xmlns=\"http://www.w3.org/2000/svg\" height=\"24px\"viewBox=\"0 0 24 24\"\n",
              "     width=\"24px\">\n",
              "    <g>\n",
              "        <path d=\"M19 3H5c-1.1 0-2 .9-2 2v14c0 1.1.9 2 2 2h14c1.1 0 2-.9 2-2V5c0-1.1-.9-2-2-2zM9 17H7v-7h2v7zm4 0h-2V7h2v10zm4 0h-2v-4h2v4z\"/>\n",
              "    </g>\n",
              "</svg>\n",
              "  </button>\n",
              "\n",
              "<style>\n",
              "  .colab-df-quickchart {\n",
              "      --bg-color: #E8F0FE;\n",
              "      --fill-color: #1967D2;\n",
              "      --hover-bg-color: #E2EBFA;\n",
              "      --hover-fill-color: #174EA6;\n",
              "      --disabled-fill-color: #AAA;\n",
              "      --disabled-bg-color: #DDD;\n",
              "  }\n",
              "\n",
              "  [theme=dark] .colab-df-quickchart {\n",
              "      --bg-color: #3B4455;\n",
              "      --fill-color: #D2E3FC;\n",
              "      --hover-bg-color: #434B5C;\n",
              "      --hover-fill-color: #FFFFFF;\n",
              "      --disabled-bg-color: #3B4455;\n",
              "      --disabled-fill-color: #666;\n",
              "  }\n",
              "\n",
              "  .colab-df-quickchart {\n",
              "    background-color: var(--bg-color);\n",
              "    border: none;\n",
              "    border-radius: 50%;\n",
              "    cursor: pointer;\n",
              "    display: none;\n",
              "    fill: var(--fill-color);\n",
              "    height: 32px;\n",
              "    padding: 0;\n",
              "    width: 32px;\n",
              "  }\n",
              "\n",
              "  .colab-df-quickchart:hover {\n",
              "    background-color: var(--hover-bg-color);\n",
              "    box-shadow: 0 1px 2px rgba(60, 64, 67, 0.3), 0 1px 3px 1px rgba(60, 64, 67, 0.15);\n",
              "    fill: var(--button-hover-fill-color);\n",
              "  }\n",
              "\n",
              "  .colab-df-quickchart-complete:disabled,\n",
              "  .colab-df-quickchart-complete:disabled:hover {\n",
              "    background-color: var(--disabled-bg-color);\n",
              "    fill: var(--disabled-fill-color);\n",
              "    box-shadow: none;\n",
              "  }\n",
              "\n",
              "  .colab-df-spinner {\n",
              "    border: 2px solid var(--fill-color);\n",
              "    border-color: transparent;\n",
              "    border-bottom-color: var(--fill-color);\n",
              "    animation:\n",
              "      spin 1s steps(1) infinite;\n",
              "  }\n",
              "\n",
              "  @keyframes spin {\n",
              "    0% {\n",
              "      border-color: transparent;\n",
              "      border-bottom-color: var(--fill-color);\n",
              "      border-left-color: var(--fill-color);\n",
              "    }\n",
              "    20% {\n",
              "      border-color: transparent;\n",
              "      border-left-color: var(--fill-color);\n",
              "      border-top-color: var(--fill-color);\n",
              "    }\n",
              "    30% {\n",
              "      border-color: transparent;\n",
              "      border-left-color: var(--fill-color);\n",
              "      border-top-color: var(--fill-color);\n",
              "      border-right-color: var(--fill-color);\n",
              "    }\n",
              "    40% {\n",
              "      border-color: transparent;\n",
              "      border-right-color: var(--fill-color);\n",
              "      border-top-color: var(--fill-color);\n",
              "    }\n",
              "    60% {\n",
              "      border-color: transparent;\n",
              "      border-right-color: var(--fill-color);\n",
              "    }\n",
              "    80% {\n",
              "      border-color: transparent;\n",
              "      border-right-color: var(--fill-color);\n",
              "      border-bottom-color: var(--fill-color);\n",
              "    }\n",
              "    90% {\n",
              "      border-color: transparent;\n",
              "      border-bottom-color: var(--fill-color);\n",
              "    }\n",
              "  }\n",
              "</style>\n",
              "\n",
              "  <script>\n",
              "    async function quickchart(key) {\n",
              "      const quickchartButtonEl =\n",
              "        document.querySelector('#' + key + ' button');\n",
              "      quickchartButtonEl.disabled = true;  // To prevent multiple clicks.\n",
              "      quickchartButtonEl.classList.add('colab-df-spinner');\n",
              "      try {\n",
              "        const charts = await google.colab.kernel.invokeFunction(\n",
              "            'suggestCharts', [key], {});\n",
              "      } catch (error) {\n",
              "        console.error('Error during call to suggestCharts:', error);\n",
              "      }\n",
              "      quickchartButtonEl.classList.remove('colab-df-spinner');\n",
              "      quickchartButtonEl.classList.add('colab-df-quickchart-complete');\n",
              "    }\n",
              "    (() => {\n",
              "      let quickchartButtonEl =\n",
              "        document.querySelector('#df-0fdd3e69-0030-47cb-a00f-8a9291503690 button');\n",
              "      quickchartButtonEl.style.display =\n",
              "        google.colab.kernel.accessAllowed ? 'block' : 'none';\n",
              "    })();\n",
              "  </script>\n",
              "</div>\n",
              "    </div>\n",
              "  </div>\n"
            ]
          },
          "metadata": {},
          "execution_count": 7
        }
      ]
    },
    {
      "cell_type": "code",
      "source": [
        "#Remove the \"id\" column as we don't need it as a feature\n",
        "df = df.drop('id', axis=1)"
      ],
      "metadata": {
        "id": "dZHKxH49VVUD"
      },
      "execution_count": 8,
      "outputs": []
    },
    {
      "cell_type": "code",
      "source": [
        "df.info()"
      ],
      "metadata": {
        "colab": {
          "base_uri": "https://localhost:8080/"
        },
        "id": "emAVMLvAJq-o",
        "outputId": "889b2129-5387-4554-a118-53326f8afe87"
      },
      "execution_count": 9,
      "outputs": [
        {
          "output_type": "stream",
          "name": "stdout",
          "text": [
            "<class 'pandas.core.frame.DataFrame'>\n",
            "RangeIndex: 101763 entries, 0 to 101762\n",
            "Data columns (total 22 columns):\n",
            " #   Column             Non-Null Count   Dtype  \n",
            "---  ------             --------------   -----  \n",
            " 0   loc                101763 non-null  float64\n",
            " 1   v(g)               101763 non-null  float64\n",
            " 2   ev(g)              101763 non-null  float64\n",
            " 3   iv(g)              101763 non-null  float64\n",
            " 4   n                  101763 non-null  float64\n",
            " 5   v                  101763 non-null  float64\n",
            " 6   l                  101763 non-null  float64\n",
            " 7   d                  101763 non-null  float64\n",
            " 8   i                  101763 non-null  float64\n",
            " 9   e                  101763 non-null  float64\n",
            " 10  b                  101763 non-null  float64\n",
            " 11  t                  101763 non-null  float64\n",
            " 12  lOCode             101763 non-null  int64  \n",
            " 13  lOComment          101763 non-null  int64  \n",
            " 14  lOBlank            101763 non-null  int64  \n",
            " 15  locCodeAndComment  101763 non-null  int64  \n",
            " 16  uniq_Op            101763 non-null  float64\n",
            " 17  uniq_Opnd          101763 non-null  float64\n",
            " 18  total_Op           101763 non-null  float64\n",
            " 19  total_Opnd         101763 non-null  float64\n",
            " 20  branchCount        101763 non-null  float64\n",
            " 21  defects            101763 non-null  bool   \n",
            "dtypes: bool(1), float64(17), int64(4)\n",
            "memory usage: 16.4 MB\n"
          ]
        }
      ]
    },
    {
      "cell_type": "code",
      "source": [
        "## Check for missing values:\n",
        "df.isna().sum()"
      ],
      "metadata": {
        "colab": {
          "base_uri": "https://localhost:8080/"
        },
        "id": "aCqNd3fFJ9QE",
        "outputId": "f39b9235-3d27-4a7c-e527-4684a4f43fc3"
      },
      "execution_count": 10,
      "outputs": [
        {
          "output_type": "execute_result",
          "data": {
            "text/plain": [
              "loc                  0\n",
              "v(g)                 0\n",
              "ev(g)                0\n",
              "iv(g)                0\n",
              "n                    0\n",
              "v                    0\n",
              "l                    0\n",
              "d                    0\n",
              "i                    0\n",
              "e                    0\n",
              "b                    0\n",
              "t                    0\n",
              "lOCode               0\n",
              "lOComment            0\n",
              "lOBlank              0\n",
              "locCodeAndComment    0\n",
              "uniq_Op              0\n",
              "uniq_Opnd            0\n",
              "total_Op             0\n",
              "total_Opnd           0\n",
              "branchCount          0\n",
              "defects              0\n",
              "dtype: int64"
            ]
          },
          "metadata": {},
          "execution_count": 10
        }
      ]
    },
    {
      "cell_type": "code",
      "source": [
        "#Check for duplicates\n",
        "duplicate_rows = df[df.duplicated()]\n",
        "duplicate_rows"
      ],
      "metadata": {
        "colab": {
          "base_uri": "https://localhost:8080/",
          "height": 99
        },
        "id": "c1kCslwcQtxg",
        "outputId": "b23ebe14-50d0-4bb4-eb82-2a8e60b2c3ef"
      },
      "execution_count": 11,
      "outputs": [
        {
          "output_type": "execute_result",
          "data": {
            "text/plain": [
              "Empty DataFrame\n",
              "Columns: [loc, v(g), ev(g), iv(g), n, v, l, d, i, e, b, t, lOCode, lOComment, lOBlank, locCodeAndComment, uniq_Op, uniq_Opnd, total_Op, total_Opnd, branchCount, defects]\n",
              "Index: []\n",
              "\n",
              "[0 rows x 22 columns]"
            ],
            "text/html": [
              "\n",
              "  <div id=\"df-47744a9e-a27b-4f4a-b9f0-3e461a187b19\" class=\"colab-df-container\">\n",
              "    <div>\n",
              "<style scoped>\n",
              "    .dataframe tbody tr th:only-of-type {\n",
              "        vertical-align: middle;\n",
              "    }\n",
              "\n",
              "    .dataframe tbody tr th {\n",
              "        vertical-align: top;\n",
              "    }\n",
              "\n",
              "    .dataframe thead th {\n",
              "        text-align: right;\n",
              "    }\n",
              "</style>\n",
              "<table border=\"1\" class=\"dataframe\">\n",
              "  <thead>\n",
              "    <tr style=\"text-align: right;\">\n",
              "      <th></th>\n",
              "      <th>loc</th>\n",
              "      <th>v(g)</th>\n",
              "      <th>ev(g)</th>\n",
              "      <th>iv(g)</th>\n",
              "      <th>n</th>\n",
              "      <th>v</th>\n",
              "      <th>l</th>\n",
              "      <th>d</th>\n",
              "      <th>i</th>\n",
              "      <th>e</th>\n",
              "      <th>...</th>\n",
              "      <th>lOCode</th>\n",
              "      <th>lOComment</th>\n",
              "      <th>lOBlank</th>\n",
              "      <th>locCodeAndComment</th>\n",
              "      <th>uniq_Op</th>\n",
              "      <th>uniq_Opnd</th>\n",
              "      <th>total_Op</th>\n",
              "      <th>total_Opnd</th>\n",
              "      <th>branchCount</th>\n",
              "      <th>defects</th>\n",
              "    </tr>\n",
              "  </thead>\n",
              "  <tbody>\n",
              "  </tbody>\n",
              "</table>\n",
              "<p>0 rows × 22 columns</p>\n",
              "</div>\n",
              "    <div class=\"colab-df-buttons\">\n",
              "\n",
              "  <div class=\"colab-df-container\">\n",
              "    <button class=\"colab-df-convert\" onclick=\"convertToInteractive('df-47744a9e-a27b-4f4a-b9f0-3e461a187b19')\"\n",
              "            title=\"Convert this dataframe to an interactive table.\"\n",
              "            style=\"display:none;\">\n",
              "\n",
              "  <svg xmlns=\"http://www.w3.org/2000/svg\" height=\"24px\" viewBox=\"0 -960 960 960\">\n",
              "    <path d=\"M120-120v-720h720v720H120Zm60-500h600v-160H180v160Zm220 220h160v-160H400v160Zm0 220h160v-160H400v160ZM180-400h160v-160H180v160Zm440 0h160v-160H620v160ZM180-180h160v-160H180v160Zm440 0h160v-160H620v160Z\"/>\n",
              "  </svg>\n",
              "    </button>\n",
              "\n",
              "  <style>\n",
              "    .colab-df-container {\n",
              "      display:flex;\n",
              "      gap: 12px;\n",
              "    }\n",
              "\n",
              "    .colab-df-convert {\n",
              "      background-color: #E8F0FE;\n",
              "      border: none;\n",
              "      border-radius: 50%;\n",
              "      cursor: pointer;\n",
              "      display: none;\n",
              "      fill: #1967D2;\n",
              "      height: 32px;\n",
              "      padding: 0 0 0 0;\n",
              "      width: 32px;\n",
              "    }\n",
              "\n",
              "    .colab-df-convert:hover {\n",
              "      background-color: #E2EBFA;\n",
              "      box-shadow: 0px 1px 2px rgba(60, 64, 67, 0.3), 0px 1px 3px 1px rgba(60, 64, 67, 0.15);\n",
              "      fill: #174EA6;\n",
              "    }\n",
              "\n",
              "    .colab-df-buttons div {\n",
              "      margin-bottom: 4px;\n",
              "    }\n",
              "\n",
              "    [theme=dark] .colab-df-convert {\n",
              "      background-color: #3B4455;\n",
              "      fill: #D2E3FC;\n",
              "    }\n",
              "\n",
              "    [theme=dark] .colab-df-convert:hover {\n",
              "      background-color: #434B5C;\n",
              "      box-shadow: 0px 1px 3px 1px rgba(0, 0, 0, 0.15);\n",
              "      filter: drop-shadow(0px 1px 2px rgba(0, 0, 0, 0.3));\n",
              "      fill: #FFFFFF;\n",
              "    }\n",
              "  </style>\n",
              "\n",
              "    <script>\n",
              "      const buttonEl =\n",
              "        document.querySelector('#df-47744a9e-a27b-4f4a-b9f0-3e461a187b19 button.colab-df-convert');\n",
              "      buttonEl.style.display =\n",
              "        google.colab.kernel.accessAllowed ? 'block' : 'none';\n",
              "\n",
              "      async function convertToInteractive(key) {\n",
              "        const element = document.querySelector('#df-47744a9e-a27b-4f4a-b9f0-3e461a187b19');\n",
              "        const dataTable =\n",
              "          await google.colab.kernel.invokeFunction('convertToInteractive',\n",
              "                                                    [key], {});\n",
              "        if (!dataTable) return;\n",
              "\n",
              "        const docLinkHtml = 'Like what you see? Visit the ' +\n",
              "          '<a target=\"_blank\" href=https://colab.research.google.com/notebooks/data_table.ipynb>data table notebook</a>'\n",
              "          + ' to learn more about interactive tables.';\n",
              "        element.innerHTML = '';\n",
              "        dataTable['output_type'] = 'display_data';\n",
              "        await google.colab.output.renderOutput(dataTable, element);\n",
              "        const docLink = document.createElement('div');\n",
              "        docLink.innerHTML = docLinkHtml;\n",
              "        element.appendChild(docLink);\n",
              "      }\n",
              "    </script>\n",
              "  </div>\n",
              "\n",
              "    </div>\n",
              "  </div>\n"
            ]
          },
          "metadata": {},
          "execution_count": 11
        }
      ]
    },
    {
      "cell_type": "code",
      "source": [
        "#Convert target column values from boolean to numerical - True -> 1 (yes defect), False -> 0 (no defect)\n",
        "df['defects'] = df['defects'].astype(int)"
      ],
      "metadata": {
        "id": "s8URpFrRqrHo"
      },
      "execution_count": 12,
      "outputs": []
    },
    {
      "cell_type": "code",
      "source": [
        "# Distribution plots for features\n",
        "rows, cols = 6, 4\n",
        "fig, axes = plt.subplots(rows, cols, figsize=(15, 12))\n",
        "fig.tight_layout(pad=2.0)\n",
        "axe = axes.ravel()\n",
        "\n",
        "for i, feature in enumerate(df.columns):\n",
        "    axe[i].set_title(feature)\n",
        "    df[feature].hist(bins=50, ax=axe[i])\n",
        "\n",
        "plt.show()"
      ],
      "metadata": {
        "colab": {
          "base_uri": "https://localhost:8080/",
          "height": 1000
        },
        "id": "9d5psmJla8Ef",
        "outputId": "d16374c8-d6f0-41c5-82ab-d74031542ce3"
      },
      "execution_count": 13,
      "outputs": [
        {
          "output_type": "display_data",
          "data": {
            "text/plain": [
              "<Figure size 1500x1200 with 24 Axes>"
            ],
            "image/png": "[encoded data removed]"
          },
          "metadata": {}
        }
      ]
    },
    {
      "cell_type": "code",
      "source": [
        "#Checking for class imbalance\n",
        "class_counts = df['defects'].value_counts()\n",
        "class_proportions = df['defects'].value_counts(normalize=True)\n",
        "print(\"Class 0 count:\", class_counts[0])\n",
        "print(\"Class 1 count:\", class_counts[1])\n",
        "\n",
        "print(\"Class 0 proportion:\", class_proportions[0])\n",
        "print(\"Class 1 proportion:\", class_proportions[1])\n",
        "\n"
      ],
      "metadata": {
        "colab": {
          "base_uri": "https://localhost:8080/"
        },
        "id": "-oM3wy8plhj7",
        "outputId": "5c5f0100-cef3-457b-dcb0-e8ad4869556e"
      },
      "execution_count": 73,
      "outputs": [
        {
          "output_type": "stream",
          "name": "stdout",
          "text": [
            "Class 0 count: 78699\n",
            "Class 1 count: 23064\n",
            "Ration minimum/major classes: 0.29306598559066827\n",
            "Class 0 proportion: 0.7733557383331859\n",
            "Class 1 proportion: 0.22664426166681406\n"
          ]
        }
      ]
    },
    {
      "cell_type": "code",
      "source": [
        "# Calculate the correlation matrix\n",
        "correlation_matrix = df.corr()\n",
        "\n",
        "# Heatmap to visualize the correlations\n",
        "plt.figure(figsize=(10, 8))\n",
        "plt.matshow(correlation_matrix, cmap='coolwarm', fignum=1)\n",
        "plt.colorbar()\n",
        "plt.xticks(range(len(correlation_matrix.columns)), correlation_matrix.columns, rotation=90)\n",
        "plt.yticks(range(len(correlation_matrix.columns)), correlation_matrix.columns)\n",
        "plt.show()"
      ],
      "metadata": {
        "colab": {
          "base_uri": "https://localhost:8080/",
          "height": 822
        },
        "id": "XhqKlfaiQuSZ",
        "outputId": "6c63acf2-5eff-46ba-8704-20ee295520f2"
      },
      "execution_count": 15,
      "outputs": [
        {
          "output_type": "display_data",
          "data": {
            "text/plain": [
              "<Figure size 1000x800 with 2 Axes>"
            ],
            "image/png": "[encoded data removed]"
          },
          "metadata": {}
        }
      ]
    },
    {
      "cell_type": "markdown",
      "source": [
        "## Data Preprocessing"
      ],
      "metadata": {
        "id": "rnFPNeU1fNzk"
      }
    },
    {
      "cell_type": "code",
      "source": [
        "#Based on the maximum values of the columns in the dataset, we can conclude that the range of values for different features varies significantly.\n",
        "#We need to scale the data.\n",
        "df.max()"
      ],
      "metadata": {
        "colab": {
          "base_uri": "https://localhost:8080/"
        },
        "id": "WDLMi7g9fg8N",
        "outputId": "daebd13b-90ac-4dc8-b4e1-b35df56c1df4"
      },
      "execution_count": 16,
      "outputs": [
        {
          "output_type": "execute_result",
          "data": {
            "text/plain": [
              "loc                      3442.00\n",
              "v(g)                      404.00\n",
              "ev(g)                     165.00\n",
              "iv(g)                     402.00\n",
              "n                        8441.00\n",
              "v                       80843.08\n",
              "l                           1.00\n",
              "d                         418.20\n",
              "i                         569.78\n",
              "e                    16846621.12\n",
              "b                          26.95\n",
              "t                      935923.39\n",
              "lOCode                   2824.00\n",
              "lOComment                 344.00\n",
              "lOBlank                   219.00\n",
              "locCodeAndComment          43.00\n",
              "uniq_Op                   410.00\n",
              "uniq_Opnd                1026.00\n",
              "total_Op                 5420.00\n",
              "total_Opnd               3021.00\n",
              "branchCount               503.00\n",
              "defects                     1.00\n",
              "dtype: float64"
            ]
          },
          "metadata": {},
          "execution_count": 16
        }
      ]
    },
    {
      "cell_type": "markdown",
      "source": [
        "## Model training"
      ],
      "metadata": {
        "id": "pubwrkZBtghq"
      }
    },
    {
      "cell_type": "code",
      "source": [
        "SEED=123"
      ],
      "metadata": {
        "id": "9z5IxVxMACNK"
      },
      "execution_count": 17,
      "outputs": []
    },
    {
      "cell_type": "code",
      "source": [
        "from sklearn.model_selection import train_test_split\n",
        "\n",
        "target_column = 'defects'\n",
        "\n",
        "X = df.drop(target_column, axis=1)\n",
        "y = df[target_column]\n",
        "X, X_test, y, y_test = train_test_split(X, y, test_size=0.2, stratify=y) # make sure to use stratify, dataset is inbalanced"
      ],
      "metadata": {
        "id": "UbU002spxeZa"
      },
      "execution_count": 42,
      "outputs": []
    },
    {
      "cell_type": "markdown",
      "source": [
        "### Baseline"
      ],
      "metadata": {
        "id": "AUAEbLLtxbOX"
      }
    },
    {
      "cell_type": "code",
      "source": [
        "from sklearn.dummy import DummyClassifier\n",
        "from sklearn.metrics import accuracy_score\n",
        "from sklearn.metrics import roc_auc_score # read: https://developers.google.com/machine-learning/crash-course/classification/roc-and-auc\n",
        "\n",
        "baseline_model = DummyClassifier(strategy='stratified', random_state=42)\n",
        "\n",
        "baseline_model.fit(X, y)\n",
        "\n",
        "y_pred = baseline_model.predict(X_test)\n",
        "y_pred_proba = baseline_model.predict_proba(X_test)[:, 1]\n",
        "\n",
        "acc_baseline = accuracy_score(y_test, y_pred)\n",
        "roc_auc_baseline = roc_auc_score(y_test, y_pred_proba)\n",
        "\n",
        "print(f'Baseline - Accuracy score: {acc_baseline:.4f}')\n",
        "print(f'Baseline - ROC AUC: {roc_auc_baseline:.4f}')"
      ],
      "metadata": {
        "colab": {
          "base_uri": "https://localhost:8080/"
        },
        "id": "HpxVEWtdxY8b",
        "outputId": "5e56dab7-688d-41fd-8110-998a9e4651a8"
      },
      "execution_count": 19,
      "outputs": [
        {
          "output_type": "stream",
          "name": "stdout",
          "text": [
            "Baseline - Accuracy score: 0.6470\n",
            "Baseline - ROC AUC: 0.4959\n"
          ]
        }
      ]
    },
    {
      "cell_type": "markdown",
      "source": [
        "### Naive solution (LogisticRegression)"
      ],
      "metadata": {
        "id": "bdC4-LXhxahn"
      }
    },
    {
      "cell_type": "code",
      "source": [
        "skf = StratifiedKFold(n_splits=5)\n",
        "model = LogisticRegression(max_iter=1000)\n",
        "scores = np.array([])\n",
        "roc_aucs = np.array([])\n",
        "\n",
        "roc_aucs_scores = cross_val_score(model, X, y, cv=skf, scoring='roc_auc')\n",
        "cv_roc_auc = np.mean(roc_aucs_scores)\n",
        "\n",
        "print(f'LogisticRegression - ROC AUC CV: {cv_roc_auc:.4f}')"
      ],
      "metadata": {
        "colab": {
          "base_uri": "https://localhost:8080/"
        },
        "id": "Psv94Nad0yx9",
        "outputId": "2c6b7331-b3b3-4973-c9b8-fb1eaf0688be"
      },
      "execution_count": 38,
      "outputs": [
        {
          "output_type": "stream",
          "name": "stdout",
          "text": [
            "LogisticRegression - ROC AUC CV: 0.7689\n"
          ]
        }
      ]
    },
    {
      "cell_type": "code",
      "source": [
        "model.fit(X, y)\n",
        "y_pred = model.predict(X_test)\n",
        "y_pred_proba = model.predict_proba(X_test)[:, 1]\n",
        "roc_auc = roc_auc_score(y_test, y_pred_proba)\n",
        "\n",
        "print(f'LogisticRegression - ROC AUC Test: {roc_auc:.4f}')"
      ],
      "metadata": {
        "id": "dLgdq25u2DgD",
        "colab": {
          "base_uri": "https://localhost:8080/"
        },
        "outputId": "f00827b0-2211-4ef0-e4e1-d91926ec1b40"
      },
      "execution_count": 40,
      "outputs": [
        {
          "output_type": "stream",
          "name": "stdout",
          "text": [
            "LogisticRegression - ROC AUC Test: 0.6829\n"
          ]
        }
      ]
    },
    {
      "cell_type": "markdown",
      "source": [
        "### Training 8 classifiers with default hyperparameters\n",
        "\n",
        "*   Logistic Regression\n",
        "*   Random Forest\n",
        "*   Gradient Boosting\n",
        "*   Decision Tree\n",
        "*   Naive Bayes\n",
        "*   K-Nearest Neighbors\n",
        "*   XGBoost\n",
        "*   AdaBoost"
      ],
      "metadata": {
        "id": "vAD9_Cgs-lp1"
      }
    },
    {
      "cell_type": "code",
      "source": [
        "from sklearn.model_selection import train_test_split\n",
        "\n",
        "target_column = 'defects'\n",
        "\n",
        "X = df.drop(target_column, axis=1)\n",
        "y = df[target_column]\n",
        "X, X_test, y, y_test = train_test_split(X, y, test_size=0.2, stratify=y) # make sure to use stratify, dataset is inbalanced"
      ],
      "metadata": {
        "id": "cO_NFHKpmUqV"
      },
      "execution_count": 4,
      "outputs": []
    },
    {
      "cell_type": "code",
      "source": [
        "# Classifiers using default hyperparameters\n",
        "classifiers = {\n",
        "    \"Logistic Regression\": LogisticRegression(max_iter=100, random_state=SEED),\n",
        "    \"Random Forest\": RandomForestClassifier(random_state=SEED),\n",
        "    \"Gradient Boosting\": GradientBoostingClassifier(random_state=SEED),\n",
        "    \"Decision Tree\": DecisionTreeClassifier(random_state=SEED),\n",
        "    \"Naive Bayes\": GaussianNB(),\n",
        "    \"K-Nearest Neighbors\": KNeighborsClassifier(),\n",
        "    \"XGBoost\": XGBClassifier(random_state=SEED),\n",
        "    \"AdaBoost\": AdaBoostClassifier(random_state=SEED),\n",
        "}"
      ],
      "metadata": {
        "id": "8qdumBsFyHzA"
      },
      "execution_count": 18,
      "outputs": []
    },
    {
      "cell_type": "code",
      "source": [
        "# Data scalers\n",
        "\n",
        "def get_scalers():\n",
        "    scalers = {\n",
        "        'minmax': [MinMaxScaler()],\n",
        "        'standard': [StandardScaler()],\n",
        "        'robust': [RobustScaler()],\n",
        "        'noscaler': []\n",
        "    }\n",
        "    return scalers\n",
        "\n",
        "oversampling_ratio = 0.5"
      ],
      "metadata": {
        "id": "vgX7eKryyiIT"
      },
      "execution_count": 47,
      "outputs": []
    },
    {
      "cell_type": "code",
      "source": [
        "\n",
        "\n",
        "k = 5\n",
        "cv = StratifiedKFold(n_splits=k)\n",
        "\n",
        "# Lists for storing training results\n",
        "models_all = []\n",
        "scaling_methods_all = []\n",
        "cv_roc_aucs_all = []\n",
        "roc_aucs_on_test = []\n",
        "\n",
        "scalers = get_scalers()\n",
        "\n",
        "# Loop through scalers\n",
        "for name_scaling, scaling_method in scalers.items():\n",
        "    print()\n",
        "    print('Scaling method: ', name_scaling)\n",
        "\n",
        "    # Loop through classifiers\n",
        "    for name, classifier in classifiers.items():\n",
        "\n",
        "        # Lists for results across CVs\n",
        "        roc_aucs = []\n",
        "\n",
        "        # Storing y_true and y_preds across all CV folds\n",
        "        all_y_true = []\n",
        "        all_y_preds = []\n",
        "\n",
        "        classification_pipeline = make_pipeline(*scaling_method, clone(classifier))\n",
        "        roc_aucs_scores = cross_val_score(classification_pipeline, X, y, cv=cv, scoring='roc_auc')\n",
        "        cv_roc_auc = np.mean(roc_aucs_scores)\n",
        "\n",
        "        # Evaluate classifier on test dataset. Make sure we create a new classifier object.\n",
        "        classification_pipeline_for_test = make_pipeline(*scaling_method, clone(classifier))\n",
        "\n",
        "        classification_pipeline_for_test.fit(X, y)\n",
        "        y_pred_proba = classification_pipeline_for_test.predict_proba(X_test)[:, 1]\n",
        "        roc_auc_on_test = roc_auc_score(y_test, y_pred_proba)\n",
        "\n",
        "        print(f\"Model: {name}, ROC-AUC CV: {cv_roc_auc:.4f}, ROC-AUC Test: {roc_auc_on_test:.4f}\")\n",
        "\n",
        "        # Add results to the lists\n",
        "        models_all.append(name)\n",
        "        scaling_methods_all.append(name_scaling)\n",
        "        cv_roc_aucs_all.append(cv_roc_auc)\n",
        "        roc_aucs_on_test.append(roc_auc_on_test)\n",
        "\n",
        "print()\n",
        "print('Done!')"
      ],
      "metadata": {
        "colab": {
          "base_uri": "https://localhost:8080/"
        },
        "id": "OhVULJolgk-X",
        "outputId": "72cfb8e6-4759-4104-df3e-3d5ad9234818"
      },
      "execution_count": 48,
      "outputs": [
        {
          "output_type": "stream",
          "name": "stdout",
          "text": [
            "\n",
            "Scaling method:  minmax\n",
            "Model: Logistic Regression, ROC-AUC CV: 0.7759, ROC-AUC Test: 0.7815\n",
            "Model: Random Forest, ROC-AUC CV: 0.7674, ROC-AUC Test: 0.7763\n",
            "Model: Gradient Boosting, ROC-AUC CV: 0.7904, ROC-AUC Test: 0.7958\n",
            "Model: Decision Tree, ROC-AUC CV: 0.6094, ROC-AUC Test: 0.6096\n",
            "Model: Naive Bayes, ROC-AUC CV: 0.7674, ROC-AUC Test: 0.7726\n",
            "Model: K-Nearest Neighbors, ROC-AUC CV: 0.7199, ROC-AUC Test: 0.7225\n",
            "Model: XGBoost, ROC-AUC CV: 0.7810, ROC-AUC Test: 0.7845\n",
            "Model: AdaBoost, ROC-AUC CV: 0.7886, ROC-AUC Test: 0.7923\n",
            "\n",
            "Scaling method:  standard\n",
            "Model: Logistic Regression, ROC-AUC CV: 0.7787, ROC-AUC Test: 0.7849\n",
            "Model: Random Forest, ROC-AUC CV: 0.7671, ROC-AUC Test: 0.7746\n",
            "Model: Gradient Boosting, ROC-AUC CV: 0.7904, ROC-AUC Test: 0.7957\n",
            "Model: Decision Tree, ROC-AUC CV: 0.6083, ROC-AUC Test: 0.6105\n",
            "Model: Naive Bayes, ROC-AUC CV: 0.7674, ROC-AUC Test: 0.7726\n",
            "Model: K-Nearest Neighbors, ROC-AUC CV: 0.7182, ROC-AUC Test: 0.7245\n",
            "Model: XGBoost, ROC-AUC CV: 0.7810, ROC-AUC Test: 0.7845\n",
            "Model: AdaBoost, ROC-AUC CV: 0.7887, ROC-AUC Test: 0.7926\n",
            "\n",
            "Scaling method:  robust\n",
            "Model: Logistic Regression, ROC-AUC CV: 0.7787, ROC-AUC Test: 0.7849\n",
            "Model: Random Forest, ROC-AUC CV: 0.7667, ROC-AUC Test: 0.7744\n",
            "Model: Gradient Boosting, ROC-AUC CV: 0.7904, ROC-AUC Test: 0.7957\n",
            "Model: Decision Tree, ROC-AUC CV: 0.6085, ROC-AUC Test: 0.6117\n",
            "Model: Naive Bayes, ROC-AUC CV: 0.7674, ROC-AUC Test: 0.7726\n",
            "Model: K-Nearest Neighbors, ROC-AUC CV: 0.7153, ROC-AUC Test: 0.7194\n",
            "Model: XGBoost, ROC-AUC CV: 0.7810, ROC-AUC Test: 0.7845\n",
            "Model: AdaBoost, ROC-AUC CV: 0.7887, ROC-AUC Test: 0.7926\n",
            "\n",
            "Scaling method:  noscaler\n",
            "Model: Logistic Regression, ROC-AUC CV: 0.6179, ROC-AUC Test: 0.6281\n",
            "Model: Random Forest, ROC-AUC CV: 0.7667, ROC-AUC Test: 0.7744\n",
            "Model: Gradient Boosting, ROC-AUC CV: 0.7904, ROC-AUC Test: 0.7957\n",
            "Model: Decision Tree, ROC-AUC CV: 0.6083, ROC-AUC Test: 0.6124\n",
            "Model: Naive Bayes, ROC-AUC CV: 0.7685, ROC-AUC Test: 0.7754\n",
            "Model: K-Nearest Neighbors, ROC-AUC CV: 0.7133, ROC-AUC Test: 0.7172\n",
            "Model: XGBoost, ROC-AUC CV: 0.7810, ROC-AUC Test: 0.7845\n",
            "Model: AdaBoost, ROC-AUC CV: 0.7887, ROC-AUC Test: 0.7926\n",
            "\n",
            "Done!\n"
          ]
        }
      ]
    },
    {
      "cell_type": "code",
      "source": [
        "results = pd.DataFrame()\n",
        "results['scaling_method'] = scaling_methods_all\n",
        "results['model'] = models_all\n",
        "results['AUC_VC'] = cv_roc_aucs_all\n",
        "results['AUC_TEST'] = roc_aucs_on_test"
      ],
      "metadata": {
        "id": "8IYcTHp25ajJ"
      },
      "execution_count": 49,
      "outputs": []
    },
    {
      "cell_type": "code",
      "source": [
        "results.sort_values('AUC_TEST', ascending=False)[:10]"
      ],
      "metadata": {
        "colab": {
          "base_uri": "https://localhost:8080/",
          "height": 363
        },
        "id": "8QwzhKUs-k8x",
        "outputId": "90a8fc1a-c319-40e5-a013-ed51d26fccf2"
      },
      "execution_count": 50,
      "outputs": [
        {
          "output_type": "execute_result",
          "data": {
            "text/plain": [
              "   scaling_method                model    AUC_VC  AUC_TEST\n",
              "2          minmax    Gradient Boosting  0.790426  0.795812\n",
              "10       standard    Gradient Boosting  0.790354  0.795744\n",
              "18         robust    Gradient Boosting  0.790355  0.795744\n",
              "26       noscaler    Gradient Boosting  0.790354  0.795744\n",
              "31       noscaler             AdaBoost  0.788732  0.792613\n",
              "23         robust             AdaBoost  0.788732  0.792613\n",
              "15       standard             AdaBoost  0.788732  0.792613\n",
              "7          minmax             AdaBoost  0.788616  0.792340\n",
              "8        standard  Logistic Regression  0.778712  0.784865\n",
              "16         robust  Logistic Regression  0.778731  0.784853"
            ],
            "text/html": [
              "\n",
              "  <div id=\"df-76689e4e-6b9f-4596-849a-af42765ca49f\" class=\"colab-df-container\">\n",
              "    <div>\n",
              "<style scoped>\n",
              "    .dataframe tbody tr th:only-of-type {\n",
              "        vertical-align: middle;\n",
              "    }\n",
              "\n",
              "    .dataframe tbody tr th {\n",
              "        vertical-align: top;\n",
              "    }\n",
              "\n",
              "    .dataframe thead th {\n",
              "        text-align: right;\n",
              "    }\n",
              "</style>\n",
              "<table border=\"1\" class=\"dataframe\">\n",
              "  <thead>\n",
              "    <tr style=\"text-align: right;\">\n",
              "      <th></th>\n",
              "      <th>scaling_method</th>\n",
              "      <th>model</th>\n",
              "      <th>AUC_VC</th>\n",
              "      <th>AUC_TEST</th>\n",
              "    </tr>\n",
              "  </thead>\n",
              "  <tbody>\n",
              "    <tr>\n",
              "      <th>2</th>\n",
              "      <td>minmax</td>\n",
              "      <td>Gradient Boosting</td>\n",
              "      <td>0.790426</td>\n",
              "      <td>0.795812</td>\n",
              "    </tr>\n",
              "    <tr>\n",
              "      <th>10</th>\n",
              "      <td>standard</td>\n",
              "      <td>Gradient Boosting</td>\n",
              "      <td>0.790354</td>\n",
              "      <td>0.795744</td>\n",
              "    </tr>\n",
              "    <tr>\n",
              "      <th>18</th>\n",
              "      <td>robust</td>\n",
              "      <td>Gradient Boosting</td>\n",
              "      <td>0.790355</td>\n",
              "      <td>0.795744</td>\n",
              "    </tr>\n",
              "    <tr>\n",
              "      <th>26</th>\n",
              "      <td>noscaler</td>\n",
              "      <td>Gradient Boosting</td>\n",
              "      <td>0.790354</td>\n",
              "      <td>0.795744</td>\n",
              "    </tr>\n",
              "    <tr>\n",
              "      <th>31</th>\n",
              "      <td>noscaler</td>\n",
              "      <td>AdaBoost</td>\n",
              "      <td>0.788732</td>\n",
              "      <td>0.792613</td>\n",
              "    </tr>\n",
              "    <tr>\n",
              "      <th>23</th>\n",
              "      <td>robust</td>\n",
              "      <td>AdaBoost</td>\n",
              "      <td>0.788732</td>\n",
              "      <td>0.792613</td>\n",
              "    </tr>\n",
              "    <tr>\n",
              "      <th>15</th>\n",
              "      <td>standard</td>\n",
              "      <td>AdaBoost</td>\n",
              "      <td>0.788732</td>\n",
              "      <td>0.792613</td>\n",
              "    </tr>\n",
              "    <tr>\n",
              "      <th>7</th>\n",
              "      <td>minmax</td>\n",
              "      <td>AdaBoost</td>\n",
              "      <td>0.788616</td>\n",
              "      <td>0.792340</td>\n",
              "    </tr>\n",
              "    <tr>\n",
              "      <th>8</th>\n",
              "      <td>standard</td>\n",
              "      <td>Logistic Regression</td>\n",
              "      <td>0.778712</td>\n",
              "      <td>0.784865</td>\n",
              "    </tr>\n",
              "    <tr>\n",
              "      <th>16</th>\n",
              "      <td>robust</td>\n",
              "      <td>Logistic Regression</td>\n",
              "      <td>0.778731</td>\n",
              "      <td>0.784853</td>\n",
              "    </tr>\n",
              "  </tbody>\n",
              "</table>\n",
              "</div>\n",
              "    <div class=\"colab-df-buttons\">\n",
              "\n",
              "  <div class=\"colab-df-container\">\n",
              "    <button class=\"colab-df-convert\" onclick=\"convertToInteractive('df-76689e4e-6b9f-4596-849a-af42765ca49f')\"\n",
              "            title=\"Convert this dataframe to an interactive table.\"\n",
              "            style=\"display:none;\">\n",
              "\n",
              "  <svg xmlns=\"http://www.w3.org/2000/svg\" height=\"24px\" viewBox=\"0 -960 960 960\">\n",
              "    <path d=\"M120-120v-720h720v720H120Zm60-500h600v-160H180v160Zm220 220h160v-160H400v160Zm0 220h160v-160H400v160ZM180-400h160v-160H180v160Zm440 0h160v-160H620v160ZM180-180h160v-160H180v160Zm440 0h160v-160H620v160Z\"/>\n",
              "  </svg>\n",
              "    </button>\n",
              "\n",
              "  <style>\n",
              "    .colab-df-container {\n",
              "      display:flex;\n",
              "      gap: 12px;\n",
              "    }\n",
              "\n",
              "    .colab-df-convert {\n",
              "      background-color: #E8F0FE;\n",
              "      border: none;\n",
              "      border-radius: 50%;\n",
              "      cursor: pointer;\n",
              "      display: none;\n",
              "      fill: #1967D2;\n",
              "      height: 32px;\n",
              "      padding: 0 0 0 0;\n",
              "      width: 32px;\n",
              "    }\n",
              "\n",
              "    .colab-df-convert:hover {\n",
              "      background-color: #E2EBFA;\n",
              "      box-shadow: 0px 1px 2px rgba(60, 64, 67, 0.3), 0px 1px 3px 1px rgba(60, 64, 67, 0.15);\n",
              "      fill: #174EA6;\n",
              "    }\n",
              "\n",
              "    .colab-df-buttons div {\n",
              "      margin-bottom: 4px;\n",
              "    }\n",
              "\n",
              "    [theme=dark] .colab-df-convert {\n",
              "      background-color: #3B4455;\n",
              "      fill: #D2E3FC;\n",
              "    }\n",
              "\n",
              "    [theme=dark] .colab-df-convert:hover {\n",
              "      background-color: #434B5C;\n",
              "      box-shadow: 0px 1px 3px 1px rgba(0, 0, 0, 0.15);\n",
              "      filter: drop-shadow(0px 1px 2px rgba(0, 0, 0, 0.3));\n",
              "      fill: #FFFFFF;\n",
              "    }\n",
              "  </style>\n",
              "\n",
              "    <script>\n",
              "      const buttonEl =\n",
              "        document.querySelector('#df-76689e4e-6b9f-4596-849a-af42765ca49f button.colab-df-convert');\n",
              "      buttonEl.style.display =\n",
              "        google.colab.kernel.accessAllowed ? 'block' : 'none';\n",
              "\n",
              "      async function convertToInteractive(key) {\n",
              "        const element = document.querySelector('#df-76689e4e-6b9f-4596-849a-af42765ca49f');\n",
              "        const dataTable =\n",
              "          await google.colab.kernel.invokeFunction('convertToInteractive',\n",
              "                                                    [key], {});\n",
              "        if (!dataTable) return;\n",
              "\n",
              "        const docLinkHtml = 'Like what you see? Visit the ' +\n",
              "          '<a target=\"_blank\" href=https://colab.research.google.com/notebooks/data_table.ipynb>data table notebook</a>'\n",
              "          + ' to learn more about interactive tables.';\n",
              "        element.innerHTML = '';\n",
              "        dataTable['output_type'] = 'display_data';\n",
              "        await google.colab.output.renderOutput(dataTable, element);\n",
              "        const docLink = document.createElement('div');\n",
              "        docLink.innerHTML = docLinkHtml;\n",
              "        element.appendChild(docLink);\n",
              "      }\n",
              "    </script>\n",
              "  </div>\n",
              "\n",
              "\n",
              "<div id=\"df-58b30af1-3f9a-4486-a113-20f9e5e68407\">\n",
              "  <button class=\"colab-df-quickchart\" onclick=\"quickchart('df-58b30af1-3f9a-4486-a113-20f9e5e68407')\"\n",
              "            title=\"Suggest charts\"\n",
              "            style=\"display:none;\">\n",
              "\n",
              "<svg xmlns=\"http://www.w3.org/2000/svg\" height=\"24px\"viewBox=\"0 0 24 24\"\n",
              "     width=\"24px\">\n",
              "    <g>\n",
              "        <path d=\"M19 3H5c-1.1 0-2 .9-2 2v14c0 1.1.9 2 2 2h14c1.1 0 2-.9 2-2V5c0-1.1-.9-2-2-2zM9 17H7v-7h2v7zm4 0h-2V7h2v10zm4 0h-2v-4h2v4z\"/>\n",
              "    </g>\n",
              "</svg>\n",
              "  </button>\n",
              "\n",
              "<style>\n",
              "  .colab-df-quickchart {\n",
              "      --bg-color: #E8F0FE;\n",
              "      --fill-color: #1967D2;\n",
              "      --hover-bg-color: #E2EBFA;\n",
              "      --hover-fill-color: #174EA6;\n",
              "      --disabled-fill-color: #AAA;\n",
              "      --disabled-bg-color: #DDD;\n",
              "  }\n",
              "\n",
              "  [theme=dark] .colab-df-quickchart {\n",
              "      --bg-color: #3B4455;\n",
              "      --fill-color: #D2E3FC;\n",
              "      --hover-bg-color: #434B5C;\n",
              "      --hover-fill-color: #FFFFFF;\n",
              "      --disabled-bg-color: #3B4455;\n",
              "      --disabled-fill-color: #666;\n",
              "  }\n",
              "\n",
              "  .colab-df-quickchart {\n",
              "    background-color: var(--bg-color);\n",
              "    border: none;\n",
              "    border-radius: 50%;\n",
              "    cursor: pointer;\n",
              "    display: none;\n",
              "    fill: var(--fill-color);\n",
              "    height: 32px;\n",
              "    padding: 0;\n",
              "    width: 32px;\n",
              "  }\n",
              "\n",
              "  .colab-df-quickchart:hover {\n",
              "    background-color: var(--hover-bg-color);\n",
              "    box-shadow: 0 1px 2px rgba(60, 64, 67, 0.3), 0 1px 3px 1px rgba(60, 64, 67, 0.15);\n",
              "    fill: var(--button-hover-fill-color);\n",
              "  }\n",
              "\n",
              "  .colab-df-quickchart-complete:disabled,\n",
              "  .colab-df-quickchart-complete:disabled:hover {\n",
              "    background-color: var(--disabled-bg-color);\n",
              "    fill: var(--disabled-fill-color);\n",
              "    box-shadow: none;\n",
              "  }\n",
              "\n",
              "  .colab-df-spinner {\n",
              "    border: 2px solid var(--fill-color);\n",
              "    border-color: transparent;\n",
              "    border-bottom-color: var(--fill-color);\n",
              "    animation:\n",
              "      spin 1s steps(1) infinite;\n",
              "  }\n",
              "\n",
              "  @keyframes spin {\n",
              "    0% {\n",
              "      border-color: transparent;\n",
              "      border-bottom-color: var(--fill-color);\n",
              "      border-left-color: var(--fill-color);\n",
              "    }\n",
              "    20% {\n",
              "      border-color: transparent;\n",
              "      border-left-color: var(--fill-color);\n",
              "      border-top-color: var(--fill-color);\n",
              "    }\n",
              "    30% {\n",
              "      border-color: transparent;\n",
              "      border-left-color: var(--fill-color);\n",
              "      border-top-color: var(--fill-color);\n",
              "      border-right-color: var(--fill-color);\n",
              "    }\n",
              "    40% {\n",
              "      border-color: transparent;\n",
              "      border-right-color: var(--fill-color);\n",
              "      border-top-color: var(--fill-color);\n",
              "    }\n",
              "    60% {\n",
              "      border-color: transparent;\n",
              "      border-right-color: var(--fill-color);\n",
              "    }\n",
              "    80% {\n",
              "      border-color: transparent;\n",
              "      border-right-color: var(--fill-color);\n",
              "      border-bottom-color: var(--fill-color);\n",
              "    }\n",
              "    90% {\n",
              "      border-color: transparent;\n",
              "      border-bottom-color: var(--fill-color);\n",
              "    }\n",
              "  }\n",
              "</style>\n",
              "\n",
              "  <script>\n",
              "    async function quickchart(key) {\n",
              "      const quickchartButtonEl =\n",
              "        document.querySelector('#' + key + ' button');\n",
              "      quickchartButtonEl.disabled = true;  // To prevent multiple clicks.\n",
              "      quickchartButtonEl.classList.add('colab-df-spinner');\n",
              "      try {\n",
              "        const charts = await google.colab.kernel.invokeFunction(\n",
              "            'suggestCharts', [key], {});\n",
              "      } catch (error) {\n",
              "        console.error('Error during call to suggestCharts:', error);\n",
              "      }\n",
              "      quickchartButtonEl.classList.remove('colab-df-spinner');\n",
              "      quickchartButtonEl.classList.add('colab-df-quickchart-complete');\n",
              "    }\n",
              "    (() => {\n",
              "      let quickchartButtonEl =\n",
              "        document.querySelector('#df-58b30af1-3f9a-4486-a113-20f9e5e68407 button');\n",
              "      quickchartButtonEl.style.display =\n",
              "        google.colab.kernel.accessAllowed ? 'block' : 'none';\n",
              "    })();\n",
              "  </script>\n",
              "</div>\n",
              "    </div>\n",
              "  </div>\n"
            ]
          },
          "metadata": {},
          "execution_count": 50
        }
      ]
    },
    {
      "cell_type": "markdown",
      "source": [
        "The best model with default hyperparameterss is Gradient Boost (oversampling ratio 0.5, standard scaler."
      ],
      "metadata": {
        "id": "35pG2J3q5ysB"
      }
    },
    {
      "cell_type": "markdown",
      "source": [
        "### Discover sampling"
      ],
      "metadata": {
        "id": "gzVZZ39lwPxx"
      }
    },
    {
      "cell_type": "code",
      "source": [
        "# Here we calculate sampling strategy parameters\n",
        "class_counts = y.value_counts()\n",
        "\n",
        "existing_data_minority_majority_ratio = class_counts.min() / class_counts.max()\n",
        "\n",
        "step = 0.25\n",
        "start_ratio = existing_data_minority_majority_ratio + step\n",
        "sampling_strategies = [r for r in np.arange(start_ratio, 1.0, step)] + [1.0]"
      ],
      "metadata": {
        "id": "0ybLuueLPu6A"
      },
      "execution_count": 13,
      "outputs": []
    },
    {
      "cell_type": "code",
      "source": [
        "import numpy as np\n",
        "from sklearn.datasets import make_classification\n",
        "from sklearn.model_selection import train_test_split, GridSearchCV\n",
        "from sklearn.metrics import roc_auc_score\n",
        "from sklearn.ensemble import GradientBoostingClassifier\n",
        "from imblearn.pipeline import Pipeline\n",
        "from imblearn.over_sampling import RandomOverSampler, SMOTE, ADASYN\n",
        "\n",
        "from imblearn.under_sampling import RandomUnderSampler, ClusterCentroids\n",
        "from imblearn.combine import SMOTEENN\n",
        "\n",
        "k = 2 # reduce number of CV to speed up the search\n",
        "cv = StratifiedKFold(n_splits=k)\n",
        "\n",
        "# Pick the best peforming model\n",
        "model = clone(classifiers[\"Gradient Boosting\"])\n",
        "\n",
        "samplers = {\n",
        "    'oversample_random': RandomOverSampler(),\n",
        "    'oversample_smote': SMOTE(),\n",
        "    'oversample_adasyn': ADASYN(),\n",
        "    'undersample_random': RandomUnderSampler(),\n",
        "    'undersample_centroids': ClusterCentroids(),\n",
        "    'underover_smoteenn': SMOTEENN(),\n",
        "}\n",
        "\n",
        "parameters = {\n",
        "    'sampler': list(samplers.values()),\n",
        "    'sampler__sampling_strategy': sampling_strategies\n",
        "}\n",
        "\n",
        "classification_pipeline = Pipeline([\n",
        "    ('sampler', None),\n",
        "    ('model', model)\n",
        "])\n",
        "\n",
        "grid_search = GridSearchCV(classification_pipeline, parameters, scoring='roc_auc', cv=cv, verbose=1).fit(X, y)"
      ],
      "metadata": {
        "colab": {
          "base_uri": "https://localhost:8080/"
        },
        "id": "CIWho6dQ26oY",
        "outputId": "d9088093-08fa-4c9c-9b28-876a97aaa1dd"
      },
      "execution_count": 22,
      "outputs": [
        {
          "output_type": "stream",
          "name": "stdout",
          "text": [
            "Fitting 2 folds for each of 18 candidates, totalling 36 fits\n"
          ]
        }
      ]
    },
    {
      "cell_type": "code",
      "source": [
        "import pandas as pd\n",
        "import seaborn as sns\n",
        "import matplotlib.pyplot as plt\n",
        "import matplotlib.ticker as ticker\n",
        "from sklearn.model_selection import GridSearchCV\n",
        "\n",
        "results = pd.DataFrame(grid_search.cv_results_)\n",
        "\n",
        "results['strategy'] = results['param_sampler'].map(lambda x: x.__class__.__name__ if x is not None else 'None')\n",
        "\n",
        "results = results[results['strategy'] != 'ClusterCentroids']\n",
        "\n",
        "plt.figure(figsize=(12, 6))\n",
        "sns.pointplot(data=results, x='param_sampler__sampling_strategy', y='mean_test_score', hue='strategy')\n",
        "\n",
        "ax = plt.gca()  # Get the current Axes instance\n",
        "ax.yaxis.set_major_formatter(ticker.FormatStrFormatter('%.3f'))  # Set format for y ticks\n",
        "\n",
        "# Adjust the y-axis limits if necessary\n",
        "plt.ylim(results['mean_test_score'].min() - 0.01, results['mean_test_score'].max() + 0.01)\n",
        "\n",
        "\n",
        "plt.title('Sampling Search Results')\n",
        "plt.xlabel('Sampling Ratio')\n",
        "plt.ylabel('Mean ROC AUC')\n",
        "\n",
        "plt.legend(title='Sampler')\n",
        "plt.tight_layout()\n",
        "plt.grid(True)\n",
        "plt.show()"
      ],
      "metadata": {
        "colab": {
          "base_uri": "https://localhost:8080/",
          "height": 607
        },
        "id": "tLLqBlUl5Bsr",
        "outputId": "c36a2cba-1759-43dc-8d35-c5b5d14dc76e"
      },
      "execution_count": 33,
      "outputs": [
        {
          "output_type": "display_data",
          "data": {
            "text/plain": [
              "<Figure size 1200x600 with 1 Axes>"
            ],
            "image/png": "[encoded data removed]"
          },
          "metadata": {}
        }
      ]
    },
    {
      "cell_type": "code",
      "source": [
        "import pandas as pd\n",
        "import seaborn as sns\n",
        "import matplotlib.pyplot as plt\n",
        "import matplotlib.ticker as ticker\n",
        "from sklearn.model_selection import GridSearchCV\n",
        "\n",
        "results = pd.DataFrame(grid_search.cv_results_)\n",
        "\n",
        "results['strategy'] = results['param_sampler'].map(lambda x: x.__class__.__name__ if x is not None else 'None')\n",
        "\n",
        "results = results[results['strategy'] == 'ClusterCentroids']\n",
        "\n",
        "plt.figure(figsize=(12, 6))\n",
        "sns.pointplot(data=results, x='param_sampler__sampling_strategy', y='mean_test_score', hue='strategy')\n",
        "\n",
        "ax = plt.gca()  # Get the current Axes instance\n",
        "ax.yaxis.set_major_formatter(ticker.FormatStrFormatter('%.3f'))  # Set format for y ticks\n",
        "\n",
        "# Adjust the y-axis limits if necessary\n",
        "plt.ylim(results['mean_test_score'].min() - 0.01, results['mean_test_score'].max() + 0.01)\n",
        "\n",
        "\n",
        "plt.title('Sampling Search Results')\n",
        "plt.xlabel('Sampling Ratio')\n",
        "plt.ylabel('Mean ROC AUC')\n",
        "# plt.ylim(results['mean_test_score'].min() * 0.95, results['mean_test_score'].max() * 1.05)\n",
        "\n",
        "plt.legend(title='Sampler')\n",
        "plt.tight_layout()\n",
        "plt.grid(True)\n",
        "plt.show()"
      ],
      "metadata": {
        "colab": {
          "base_uri": "https://localhost:8080/",
          "height": 607
        },
        "id": "jTrDh-PimDff",
        "outputId": "4fabb6f9-c5b0-4dcb-f4cc-5b7b245f89de"
      },
      "execution_count": 34,
      "outputs": [
        {
          "output_type": "display_data",
          "data": {
            "text/plain": [
              "<Figure size 1200x600 with 1 Axes>"
            ],
            "image/png": "[encoded data removed]"
          },
          "metadata": {}
        }
      ]
    },
    {
      "cell_type": "markdown",
      "source": [
        "# Final Results"
      ],
      "metadata": {
        "id": "nl0Na5OZ6jNW"
      }
    },
    {
      "cell_type": "markdown",
      "source": [
        "| # | Experiment         | Description                                         | ROC AUC | Accuracy |\n",
        "|---|--------------------|-----------------------------------------------------|---------|----------|\n",
        "| 1 | Baseline           | No dataset preprocessing                            | 0.5020  | 0.6514   |\n",
        "| 2 | LogisticRegression | No dataset preprocessing, Cross validation 5 splits | 0.6524  | 0.7921   |\n",
        "| 3 | Kaggle Top 1       |                                                     | 0.79136 | n/a      |\n",
        "\n",
        "\n"
      ],
      "metadata": {
        "id": "xehlgVuZ6l5W"
      }
    },
    {
      "cell_type": "markdown",
      "source": [
        "# Links\n",
        "\n",
        "* Markdown table generator: https://www.tablesgenerator.com/markdown_tables\n",
        "* ROC AUC: https://developers.google.com/machine-learning/crash-course/classification/roc-and-auc\n"
      ],
      "metadata": {
        "id": "MVFTtjroFiqz"
      }
    }
  ]
}