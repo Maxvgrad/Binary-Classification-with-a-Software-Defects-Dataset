{
  "nbformat": 4,
  "nbformat_minor": 0,
  "metadata": {
    "colab": {
      "provenance": [],
      "authorship_tag": "ABX9TyNDvlaR0bPHzd1eMEZdi8LK",
      "include_colab_link": true
    },
    "kernelspec": {
      "name": "python3",
      "display_name": "Python 3"
    },
    "language_info": {
      "name": "python"
    }
  },
  "cells": [
    {
      "cell_type": "markdown",
      "metadata": {
        "id": "view-in-github",
        "colab_type": "text"
      },
      "source": [
        "<a href=\"https://colab.research.google.com/github/Maxvgrad/Binary-Classification-with-a-Software-Defects-Dataset/blob/test/main.ipynb\" target=\"_parent\"><img src=\"https://colab.research.google.com/assets/colab-badge.svg\" alt=\"Open In Colab\"/></a>"
      ]
    },
    {
      "cell_type": "code",
      "execution_count": null,
      "metadata": {
        "id": "sdFZJBiE-VOl"
      },
      "outputs": [],
      "source": [
        "print('ML Project Team 32')"
      ]
    },
    {
      "cell_type": "code",
      "source": [
        "print('ML Project Team 32')"
      ],
      "metadata": {
        "id": "LxLossQZBA6q"
      },
      "execution_count": null,
      "outputs": []
    }
  ]
}