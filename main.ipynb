{
  "nbformat": 4,
  "nbformat_minor": 0,
  "metadata": {
    "colab": {
      "provenance": []
    },
    "kernelspec": {
      "name": "python3",
      "display_name": "Python 3"
    },
    "language_info": {
      "name": "python"
    }
  },
  "cells": [
    {
      "cell_type": "code",
      "execution_count": null,
      "metadata": {
        "id": "sdFZJBiE-VOl"
      },
      "outputs": [],
      "source": [
        "print('ML Project Team 32')"
      ]
    },
    {
      "cell_type": "code",
      "source": [
        "print('Add new code')"
      ],
      "metadata": {
        "id": "kJoTClPPOy7n"
      },
      "execution_count": null,
      "outputs": []
    }
  ]
}